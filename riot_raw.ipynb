{
  "nbformat": 4,
  "nbformat_minor": 0,
  "metadata": {
    "colab": {
      "name": "riot_raw.ipynb",
      "provenance": [],
      "collapsed_sections": [],
      "authorship_tag": "ABX9TyMnaUrjuHs3FiIzXOoZ2Vtc",
      "include_colab_link": true
    },
    "kernelspec": {
      "name": "python3",
      "display_name": "Python 3"
    },
    "language_info": {
      "name": "python"
    }
  },
  "cells": [
    {
      "cell_type": "markdown",
      "metadata": {
        "id": "view-in-github",
        "colab_type": "text"
      },
      "source": [
        "<a href=\"https://colab.research.google.com/github/DogGuyMan/-/blob/main/riot_raw.ipynb\" target=\"_parent\"><img src=\"https://colab.research.google.com/assets/colab-badge.svg\" alt=\"Open In Colab\"/></a>"
      ]
    },
    {
      "cell_type": "code",
      "metadata": {
        "id": "0HhFn4eLgXah"
      },
      "source": [
        "import requests\n",
        "import pandas as pd\n",
        "from pandas.io.json import json_normalize\n",
        "import json\n",
        "import gc\n",
        "import time\n",
        "import random\n",
        "import csv\n",
        "import os\n",
        "import pprint\n",
        "from os import path\n",
        "from google.colab import drive\n",
        "from urllib.request import urlopen\n",
        "from urllib.parse import quote_plus"
      ],
      "execution_count": 1,
      "outputs": []
    },
    {
      "cell_type": "code",
      "metadata": {
        "colab": {
          "base_uri": "https://localhost:8080/"
        },
        "id": "8dmsjP2y-H-_",
        "outputId": "4397d219-c639-4461-fc53-390fcb5874c1"
      },
      "source": [
        "notebook_dir_name = 'Colab Notebooks'\n",
        "drive.mount('/content/drive')\n",
        "os.chdir(\"/content/drive\")\n",
        "!ls"
      ],
      "execution_count": 2,
      "outputs": [
        {
          "output_type": "stream",
          "name": "stdout",
          "text": [
            "Drive already mounted at /content/drive; to attempt to forcibly remount, call drive.mount(\"/content/drive\", force_remount=True).\n",
            "MyDrive\n"
          ]
        }
      ]
    },
    {
      "cell_type": "code",
      "metadata": {
        "id": "dkcvpSLc-Tve"
      },
      "source": [
        "notebook_base_dir = path.join('/content/drive/MyDrive/', notebook_dir_name)\n"
      ],
      "execution_count": 3,
      "outputs": []
    },
    {
      "cell_type": "code",
      "metadata": {
        "id": "7i-HRx4i1DH_"
      },
      "source": [
        "api_key = \"RGAPI-540dae3d-db1f-40cb-9cb0-9d260737f684\""
      ],
      "execution_count": 4,
      "outputs": []
    },
    {
      "cell_type": "code",
      "metadata": {
        "colab": {
          "base_uri": "https://localhost:8080/",
          "height": 104
        },
        "id": "EVJxfjqI9JKB",
        "outputId": "c34102ad-8cac-4480-fe86-9d2882df5d88"
      },
      "source": [
        "''' Request가 잘 되었는지 확인용 동작 \n",
        "---temp_work()------------------------------------------------\n",
        "\n",
        "def temp_works():\n",
        "  my_info_json = successValidate()\n",
        "  Rankinfo_by_name(my_info_json)\n",
        "def successValidate():\n",
        "  request_my_info = \"https://kr.api.riotgames.com/lol/summoner/v4/summoners/by-name/\" + \"향긋함\" + \"?api_key=\" + api_key\n",
        "  r = requests.get(request_my_info)\n",
        "  r = r.json()\n",
        "  print(json.dumps(r, indent=4))\n",
        "  return r\n",
        "def Rankinfo_by_name(info):\n",
        "  req_my_tier = \"https://kr.api.riotgames.com/lol/league/v4/entries/by-summoner/\" + info['id'] + \"?api_key=\" + api_key\n",
        "  r = requests.get(req_my_tier)\n",
        "  print(r)\n",
        "  r = r.json()\n",
        "  print(json.dumps(r, indent=4))\n",
        "---------------------------------------------------------------\n",
        "'''"
      ],
      "execution_count": 5,
      "outputs": [
        {
          "output_type": "execute_result",
          "data": {
            "application/vnd.google.colaboratory.intrinsic+json": {
              "type": "string"
            },
            "text/plain": [
              "' Request가 잘 되었는지 확인용 동작 \\n---temp_work()------------------------------------------------\\n\\ndef temp_works():\\n  my_info_json = successValidate()\\n  Rankinfo_by_name(my_info_json)\\ndef successValidate():\\n  request_my_info = \"https://kr.api.riotgames.com/lol/summoner/v4/summoners/by-name/\" + \"향긋함\" + \"?api_key=\" + api_key\\n  r = requests.get(request_my_info)\\n  r = r.json()\\n  print(json.dumps(r, indent=4))\\n  return r\\ndef Rankinfo_by_name(info):\\n  req_my_tier = \"https://kr.api.riotgames.com/lol/league/v4/entries/by-summoner/\" + info[\\'id\\'] + \"?api_key=\" + api_key\\n  r = requests.get(req_my_tier)\\n  print(r)\\n  r = r.json()\\n  print(json.dumps(r, indent=4))\\n---------------------------------------------------------------\\n'"
            ]
          },
          "metadata": {},
          "execution_count": 5
        }
      ]
    },
    {
      "cell_type": "code",
      "metadata": {
        "id": "bE3nLlo-Lo2d"
      },
      "source": [
        "tier_division = [\"IV\",\"III\", \"II\", \"I\"]\n",
        "tier = [\"DIAMOND\", \"PLATINUM\", \"GOLD\", \"SILVER\", \"BRONZE\"]\n",
        "region = [\"eun1\",\"euw1\" ,\"jp1\",\"kr\",\"la1\" ,\"la2\",\"ru\"]\n",
        "#info_dic = [\"rank\", \"division\", \"summonerName\",\"win\",\"lose\",\"winRatio\"]\n",
        "#ALL_User_info = pd.DataFrame(columns=info_dic)"
      ],
      "execution_count": 26,
      "outputs": []
    },
    {
      "cell_type": "code",
      "metadata": {
        "id": "Rq-gYt0ZiCF4"
      },
      "source": [
        ""
      ],
      "execution_count": 6,
      "outputs": []
    },
    {
      "cell_type": "code",
      "metadata": {
        "id": "VEcGZ29aEVSb"
      },
      "source": [
        "def bronzeTier(region):\n",
        "  curRegion = region\n",
        "  reg=[]\n",
        "  rank=[] \n",
        "  division=[] \n",
        "  summonerName=[]\t\n",
        "  win=[]\n",
        "  lose=[]\n",
        "  winRatio=[]\n",
        "\n",
        "  for d in tier_division:\n",
        "    req_Bron_info = f\"https://{curRegion}.api.riotgames.com/lol/league/v4/entries/\" + \"RANKED_SOLO_5x5/\" + \"BRONZE/\" + f\"{d}\" +\"?api_key=\" + api_key\n",
        "    r = requests.get(req_Bron_info)\n",
        "    r = r.json()\n",
        "    for size in range(len(r)):\n",
        "        curJson = r[size]\n",
        "        reg.append(curRegion)\n",
        "        rank.append(curJson[\"tier\"])\n",
        "        division.append(curJson[\"rank\"])\n",
        "        summonerName.append(curJson[\"summonerName\"])\n",
        "        win.append(curJson[\"wins\"])\n",
        "        lose.append(curJson[\"losses\"])\n",
        "        playNum = curJson[\"wins\"] + curJson[\"losses\"]\n",
        "        if(playNum != 0) :\n",
        "          winRatio.append(curJson[\"wins\"] / playNum)\n",
        "        else : \n",
        "          winRatio,append(none)\n",
        "\n",
        "  Bronze_DF = {\n",
        "      \"region\": reg,\n",
        "      \"rank\":rank\n",
        "      ,\"division\":division \n",
        "      ,\"summonerName\":summonerName\n",
        "      ,\"win\":win\n",
        "      ,\"lose\":lose\n",
        "      ,\"winRatio\":winRatio\n",
        "  }\n",
        "\n",
        "  return Bronze_DF\n",
        "  "
      ],
      "execution_count": 7,
      "outputs": []
    },
    {
      "cell_type": "code",
      "metadata": {
        "id": "9rHAJk8VcFct"
      },
      "source": [
        "def GET_Tier(rank, region):\n",
        "  curRank = rank\n",
        "  curRegion = region\n",
        "  reg=[]\n",
        "  rank=[] \n",
        "  division=[] \n",
        "  summonerName=[]\t\n",
        "  win=[]\n",
        "  lose=[]\n",
        "  winRatio=[]\n",
        "\n",
        "  for d in tier_division:\n",
        "    req_Tier_info =  f\"https://{curRegion}.api.riotgames.com/lol/league/v4/entries/\" + \"RANKED_SOLO_5x5/\" + f\"{curRank}/\" + f\"{d}\" +\"?api_key=\" + api_key\n",
        "    r = requests.get(req_Tier_info)\n",
        "    if(r.status_code == 200): \n",
        "      r = r.json()\n",
        "      for size in range(len(r)):\n",
        "        curJson = r[size]\n",
        "        reg.append(curRegion)\n",
        "        rank.append(curJson[\"tier\"])\n",
        "        division.append(curJson[\"rank\"])\n",
        "        summonerName.append(curJson[\"summonerName\"])\n",
        "        win.append(curJson[\"wins\"])\n",
        "        lose.append(curJson[\"losses\"])\n",
        "        playNum = curJson[\"wins\"] + curJson[\"losses\"]\n",
        "        if(playNum != 0) :\n",
        "          winRatio.append(curJson[\"wins\"] / playNum)\n",
        "        else : \n",
        "          winRatio,append(none)\n",
        "    else :\n",
        "      print(\"불러오지 못함\")\n",
        "      print(req_Tier_info)\n",
        "      break;\n",
        "  Tier_DF = {\n",
        "      \"region\" : reg,\n",
        "      \"rank\" : rank\n",
        "      ,\"division\":division \n",
        "      ,\"summonerName\":summonerName\n",
        "      ,\"win\":win\n",
        "      ,\"lose\":lose\n",
        "      ,\"winRatio\":winRatio\n",
        "  }\n",
        "  \n",
        "  return Tier_DF"
      ],
      "execution_count": 22,
      "outputs": []
    },
    {
      "cell_type": "code",
      "metadata": {
        "colab": {
          "base_uri": "https://localhost:8080/"
        },
        "id": "gQkU_3Mw4lmc",
        "outputId": "c9ff0fe0-abd7-417d-c694-fa4851d12b9a"
      },
      "source": [
        "info_dic = [\"region\",\"rank\", \"division\", \"summonerName\",\"win\",\"lose\",\"winRatio\"]\n",
        "ALL_User_info = pd.DataFrame(columns=info_dic)\n",
        "for server in region :\n",
        "  for ti in tier :\n",
        "    print(server, ti)\n",
        "    ALL_User_info = ALL_User_info.append(pd.DataFrame(data=GET_Tier(ti, server)), ignore_index=True)\n",
        "\n",
        "#res = pd.concat([ALL_User_info,pd.DataFrame(data=bronzeTier(server), columns=info_col)], ignore_index=True)"
      ],
      "execution_count": 27,
      "outputs": [
        {
          "output_type": "stream",
          "name": "stdout",
          "text": [
            "eun1 DIAMOND\n",
            "eun1 PLATINUM\n",
            "eun1 GOLD\n",
            "eun1 SILVER\n",
            "eun1 BRONZE\n",
            "euw1 DIAMOND\n",
            "euw1 PLATINUM\n",
            "euw1 GOLD\n",
            "euw1 SILVER\n",
            "euw1 BRONZE\n",
            "jp1 DIAMOND\n",
            "jp1 PLATINUM\n",
            "jp1 GOLD\n",
            "jp1 SILVER\n",
            "jp1 BRONZE\n",
            "kr DIAMOND\n",
            "kr PLATINUM\n",
            "kr GOLD\n",
            "kr SILVER\n",
            "kr BRONZE\n",
            "la1 DIAMOND\n",
            "la1 PLATINUM\n",
            "la1 GOLD\n",
            "la1 SILVER\n",
            "la1 BRONZE\n",
            "la2 DIAMOND\n",
            "la2 PLATINUM\n",
            "la2 GOLD\n",
            "la2 SILVER\n",
            "la2 BRONZE\n",
            "ru DIAMOND\n",
            "ru PLATINUM\n",
            "ru GOLD\n",
            "ru SILVER\n",
            "ru BRONZE\n"
          ]
        }
      ]
    },
    {
      "cell_type": "code",
      "metadata": {
        "id": "j9mOt-0SU88N"
      },
      "source": [
        "ALL_User_info.to_csv(notebook_base_dir + \"SubPlayer.csv\", index=False, header=True, encoding='utf-8-sig')\n",
        "#df.to_csv('내보낼 파일명', index = T/F, header = T/F, na_rep = '-')"
      ],
      "execution_count": 31,
      "outputs": []
    },
    {
      "cell_type": "code",
      "metadata": {
        "colab": {
          "base_uri": "https://localhost:8080/"
        },
        "id": "Oavvc6c3W3qf",
        "outputId": "3417f6a9-922d-42f2-91cb-ed9c455a168d"
      },
      "source": [
        "print(ALL_User_info[ALL_User_info[\"region\"] == \"kr\"])"
      ],
      "execution_count": 30,
      "outputs": [
        {
          "output_type": "stream",
          "name": "stdout",
          "text": [
            "      region     rank division summonerName  win lose  winRatio\n",
            "12300     kr  DIAMOND       IV     마법소녀 모야삡  433  385  0.529340\n",
            "12301     kr  DIAMOND       IV    LOL China  202  200  0.502488\n",
            "12302     kr  DIAMOND       IV          도영잉  278  259  0.517691\n",
            "12303     kr  DIAMOND       IV       디아몬드 4  266  272  0.494424\n",
            "12304     kr  DIAMOND       IV       간짜장간짬뽕  453  420  0.518900\n",
            "...      ...      ...      ...          ...  ...  ...       ...\n",
            "16395     kr   BRONZE        I        KR이xx   47   53  0.470000\n",
            "16396     kr   BRONZE        I   awpojkslfd    5    5  0.500000\n",
            "16397     kr   BRONZE        I     효자동 무스너클   85  102  0.454545\n",
            "16398     kr   BRONZE        I       지존불꽃남자    8   15  0.347826\n",
            "16399     kr   BRONZE        I       애완견 스칼   10    7  0.588235\n",
            "\n",
            "[4100 rows x 7 columns]\n"
          ]
        }
      ]
    }
  ]
}